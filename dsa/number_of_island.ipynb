{
 "cells": [
  {
   "cell_type": "markdown",
   "id": "5682c67c",
   "metadata": {},
   "source": [
    "#### Number of Island"
   ]
  },
  {
   "cell_type": "code",
   "execution_count": 18,
   "id": "3c837fa4",
   "metadata": {
    "slideshow": {
     "slide_type": "slide"
    }
   },
   "outputs": [
    {
     "name": "stdout",
     "output_type": "stream",
     "text": [
      "5\n"
     ]
    }
   ],
   "source": [
    "class Solution:\n",
    "    # @param A : list of list of integers\n",
    "    # @return an integer\n",
    "\n",
    "    def dfs(self, i, j, grid, row_length, col_length):\n",
    "\n",
    "        # check if in range\n",
    "        if i < 0 or j < 0 or i > row_length-1 or j > col_length - 1:\n",
    "            return\n",
    "        # ignore 0 cell\n",
    "        if grid[i][j] == 0:\n",
    "            return\n",
    "\n",
    "        # set 0 to nearby cell\n",
    "        grid[i][j] = 0\n",
    "\n",
    "        # visit all 8 direction - top, top_left_corner, left , bottom_left_corner, bottom , bottom_right_corner, right, top_right_corner\n",
    "        dir = [[i-1, j], [i-1, j-1], [i, j-1], [i+1, j-1],\n",
    "               [i+1, j], [i+1, j+1], [i, j+1], [i-1, j+1]]\n",
    "        for d in dir:\n",
    "            self.dfs(d[0], d[1], grid, row_length, col_length)\n",
    "\n",
    "    def solve(self, A):\n",
    "        if len(A) == 0:\n",
    "            return 0\n",
    "\n",
    "        row_count, col_count, island_count = len(A), len(A[0]), 0\n",
    "\n",
    "        for i in range(row_count):\n",
    "            for j in range(col_count):\n",
    "                if A[i][j] == 1:\n",
    "                    island_count += 1\n",
    "                    self.dfs(i, j, A, row_count, col_count)\n",
    "\n",
    "        return island_count\n",
    "\n",
    "\n",
    "A = [\n",
    "    [1, 1, 0, 0, 0],\n",
    "    [0, 1, 0, 0, 0],\n",
    "    [1, 0, 0, 1, 1],\n",
    "    [0, 0, 0, 0, 0],\n",
    "    [1, 0, 1, 0, 1]\n",
    "]\n",
    "sol = Solution()\n",
    "print(sol.solve(A=A))"
   ]
  },
  {
   "cell_type": "markdown",
   "id": "7f867dad",
   "metadata": {},
   "source": [
    "#### Path in Directed Graph"
   ]
  },
  {
   "cell_type": "code",
   "execution_count": null,
   "id": "4c4bcc8b",
   "metadata": {},
   "outputs": [
    {
     "name": "stdout",
     "output_type": "stream",
     "text": [
      "[[], [], [], [], []]\n"
     ]
    },
    {
     "ename": "IndexError",
     "evalue": "list index out of range",
     "output_type": "error",
     "traceback": [
      "\u001b[31m---------------------------------------------------------------------------\u001b[39m",
      "\u001b[31mIndexError\u001b[39m                                Traceback (most recent call last)",
      "\u001b[36mCell\u001b[39m\u001b[36m \u001b[39m\u001b[32mIn[18]\u001b[39m\u001b[32m, line 37\u001b[39m\n\u001b[32m     35\u001b[39m \u001b[38;5;66;03m# Execute\u001b[39;00m\n\u001b[32m     36\u001b[39m sol = Solution()\n\u001b[32m---> \u001b[39m\u001b[32m37\u001b[39m \u001b[38;5;28mprint\u001b[39m(\u001b[43msol\u001b[49m\u001b[43m.\u001b[49m\u001b[43msolve\u001b[49m\u001b[43m(\u001b[49m\u001b[43mA\u001b[49m\u001b[43m,\u001b[49m\u001b[43m \u001b[49m\u001b[43mB\u001b[49m\u001b[43m)\u001b[49m)\n",
      "\u001b[36mCell\u001b[39m\u001b[36m \u001b[39m\u001b[32mIn[18]\u001b[39m\u001b[32m, line 22\u001b[39m, in \u001b[36mSolution.solve\u001b[39m\u001b[34m(self, dest_node, edges)\u001b[39m\n\u001b[32m     20\u001b[39m \u001b[38;5;28mprint\u001b[39m(adj)\n\u001b[32m     21\u001b[39m \u001b[38;5;28;01mfor\u001b[39;00m edge \u001b[38;5;129;01min\u001b[39;00m edges:\n\u001b[32m---> \u001b[39m\u001b[32m22\u001b[39m     \u001b[43madj\u001b[49m\u001b[43m[\u001b[49m\u001b[43medge\u001b[49m\u001b[43m[\u001b[49m\u001b[32;43m0\u001b[39;49m\u001b[43m]\u001b[49m\u001b[43m]\u001b[49m.append(edge[\u001b[32m1\u001b[39m])\n\u001b[32m     24\u001b[39m \u001b[38;5;66;03m# self.dfs(1, dest_node, adj, visited)\u001b[39;00m\n\u001b[32m     26\u001b[39m \u001b[38;5;28;01mreturn\u001b[39;00m \u001b[32m1\u001b[39m\n",
      "\u001b[31mIndexError\u001b[39m: list index out of range"
     ]
    }
   ],
   "source": [
    "class Solution:\n",
    "    # @param A : list of list of integers\n",
    "    # @return an integer\n",
    "\n",
    "    def dfs(self,  node, adj, visited):\n",
    "        if visited[node] == 1:\n",
    "            return \n",
    "        visited[node] = 1\n",
    "\n",
    "        for i in range(adj[node]):\n",
    "            self.dfs(adj[node][i], adj, visited)\n",
    "        \n",
    "\n",
    "    def solve(self, dest_node, edges):\n",
    "        if len(edges) == 0:\n",
    "            return 0\n",
    "        adj = [[] for _ in range(dest_node)]\n",
    "\n",
    "        visited = [-1 for i in range(dest_node)]\n",
    "        print(adj)\n",
    "        for edge in edges:\n",
    "            adj[edge[0]].append(edge[1])\n",
    "        \n",
    "        # self.dfs(1, dest_node, adj, visited)\n",
    "\n",
    "        return 1\n",
    "\n",
    "A = 5\n",
    "B = [  [1, 2] ,\n",
    "        [4, 1] ,\n",
    "        [2, 4] ,\n",
    "        [3, 4] ,\n",
    "        [5, 2] ,\n",
    "        [1, 3] ]\n",
    "# Execute\n",
    "sol = Solution()\n",
    "print(sol.solve(A, B))"
   ]
  }
 ],
 "metadata": {
  "kernelspec": {
   "display_name": "Python 3",
   "language": "python",
   "name": "python3"
  },
  "language_info": {
   "codemirror_mode": {
    "name": "ipython",
    "version": 3
   },
   "file_extension": ".py",
   "mimetype": "text/x-python",
   "name": "python",
   "nbconvert_exporter": "python",
   "pygments_lexer": "ipython3",
   "version": "3.13.5"
  }
 },
 "nbformat": 4,
 "nbformat_minor": 5
}
