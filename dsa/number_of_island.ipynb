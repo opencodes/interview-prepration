{
 "cells": [
  {
   "cell_type": "markdown",
   "id": "5682c67c",
   "metadata": {},
   "source": [
    "#### Number of Island"
   ]
  },
  {
   "cell_type": "code",
   "execution_count": 18,
   "id": "3c837fa4",
   "metadata": {
    "slideshow": {
     "slide_type": "slide"
    }
   },
   "outputs": [
    {
     "name": "stdout",
     "output_type": "stream",
     "text": [
      "5\n"
     ]
    }
   ],
   "source": [
    "class Solution:\n",
    "    # @param A : list of list of integers\n",
    "    # @return an integer\n",
    "\n",
    "    def dfs(self, i, j, grid, row_length, col_length):\n",
    "\n",
    "        # check if in range\n",
    "        if i < 0 or j < 0 or i > row_length-1 or j > col_length - 1:\n",
    "            return\n",
    "        # ignore 0 cell\n",
    "        if grid[i][j] == 0:\n",
    "            return\n",
    "\n",
    "        # set 0 to nearby cell\n",
    "        grid[i][j] = 0\n",
    "\n",
    "        # visit all 8 direction - top, top_left_corner, left , bottom_left_corner, bottom , bottom_right_corner, right, top_right_corner\n",
    "        dir = [[i-1, j], [i-1, j-1], [i, j-1], [i+1, j-1],\n",
    "               [i+1, j], [i+1, j+1], [i, j+1], [i-1, j+1]]\n",
    "        for d in dir:\n",
    "            self.dfs(d[0], d[1], grid, row_length, col_length)\n",
    "\n",
    "    def solve(self, A):\n",
    "        if len(A) == 0:\n",
    "            return 0\n",
    "\n",
    "        row_count, col_count, island_count = len(A), len(A[0]), 0\n",
    "\n",
    "        for i in range(row_count):\n",
    "            for j in range(col_count):\n",
    "                if A[i][j] == 1:\n",
    "                    island_count += 1\n",
    "                    self.dfs(i, j, A, row_count, col_count)\n",
    "\n",
    "        return island_count\n",
    "\n",
    "\n",
    "A = [\n",
    "    [1, 1, 0, 0, 0],\n",
    "    [0, 1, 0, 0, 0],\n",
    "    [1, 0, 0, 1, 1],\n",
    "    [0, 0, 0, 0, 0],\n",
    "    [1, 0, 1, 0, 1]\n",
    "]\n",
    "sol = Solution()\n",
    "print(sol.solve(A=A))"
   ]
  },
  {
   "cell_type": "markdown",
   "id": "7f867dad",
   "metadata": {},
   "source": [
    "#### Path in Directed Graph"
   ]
  },
  {
   "cell_type": "code",
   "execution_count": null,
   "id": "4c4bcc8b",
   "metadata": {},
   "outputs": [],
   "source": [
    "class Solution:\n",
    "    # @param A : list of list of integers\n",
    "    # @return an integer\n",
    "\n",
    "    def dfs(self, i, j, grid, row_length, col_length):\n",
    "\n",
    "        # check if in range\n",
    "        if i < 0 or j < 0 or i > row_length-1 or j > col_length - 1:\n",
    "            return\n",
    "        # ignore 0 cell\n",
    "        if grid[i][j] == 0:\n",
    "            return\n",
    "\n",
    "        # set 0 to nearby cell\n",
    "        grid[i][j] = 0\n",
    "\n",
    "        # visit all 8 direction - top, top_left_corner, left , bottom_left_corner, bottom , bottom_right_corner, right, top_right_corner\n",
    "        dir = [[i-1, j], [i-1, j-1], [i, j-1], [i+1, j-1],\n",
    "               [i+1, j], [i+1, j+1], [i, j+1], [i-1, j+1]]\n",
    "        for d in dir:\n",
    "            self.dfs(d[0], d[1], grid, row_length, col_length)\n",
    "\n",
    "    def solve(self, A, B):\n",
    "        if len(A) == 0:\n",
    "            return 0\n",
    "        # Find if there is a path between 1 to B\n",
    "        start_node, end_node = 1, B\n",
    "        row_count , col_count = len(A), len(A[0])\n",
    "        self.dfs(i, j, A, row_count, col_count)\n",
    "        return island_count\n",
    "\n",
    "\n",
    "A = 5\n",
    "B = [  [1, 2] ,\n",
    "        [4, 1] ,\n",
    "        [2, 4] ,\n",
    "        [3, 4] ,\n",
    "        [5, 2] ,\n",
    "        [1, 3] ]\n",
    "# Execute\n",
    "sol = Solution()\n",
    "print(sol.solve(A, B))"
   ]
  }
 ],
 "metadata": {
  "kernelspec": {
   "display_name": "Python 3",
   "language": "python",
   "name": "python3"
  },
  "language_info": {
   "codemirror_mode": {
    "name": "ipython",
    "version": 3
   },
   "file_extension": ".py",
   "mimetype": "text/x-python",
   "name": "python",
   "nbconvert_exporter": "python",
   "pygments_lexer": "ipython3",
   "version": "3.13.5"
  }
 },
 "nbformat": 4,
 "nbformat_minor": 5
}
